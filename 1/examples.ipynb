{
 "cells": [
  {
   "cell_type": "code",
   "execution_count": null,
   "metadata": {
    "pycharm": {
     "is_executing": true,
     "name": "#%%\n"
    }
   },
   "outputs": [],
   "source": [
    "import pandas as pd\n",
    "from tabulate import tabulate\n",
    "import re\n",
    "\n",
    "def save_df_to_latex(df, filename, caption=None, label=None, index=False, float_format=\"%.2f\"):\n",
    "    \"\"\"\n",
    "    Сохраняет DataFrame в LaTeX-файл с использованием pandas.to_latex().\n",
    "\n",
    "    :param df: pandas DataFrame\n",
    "    :param filename: Имя выходного файла\n",
    "    :param caption: Подпись таблицы\n",
    "    :param label: Метка для таблицы\n",
    "    :param index: Включать индексы DataFrame в таблицу или нет\n",
    "    :param float_format: Форматирование чисел с плавающей точкой\n",
    "    \"\"\"\n",
    "    # Заменяем NaN на пустые строки\n",
    "    df = df.fillna(\"\")\n",
    "\n",
    "    # Экранируем символы \"_\" в названиях столбцов\n",
    "    df.columns = df.columns.str.replace('_', r'\\_')\n",
    "\n",
    "    # Генерируем LaTeX таблицу\n",
    "    latex = df.to_latex(index=index, float_format=float_format)\n",
    "\n",
    "    # Добавляем заголовок, подпись и метку таблицы\n",
    "    if caption:\n",
    "        latex = latex.split('\\n')\n",
    "        latex.insert(0, f'\\\\caption{{{caption}}}')\n",
    "        latex = '\\n'.join(latex)\n",
    "    if label:\n",
    "        latex = latex.split('\\n')\n",
    "        latex.insert(1, f'\\\\label{{{label}}}')\n",
    "        latex = '\\n'.join(latex)\n",
    "\n",
    "    # Сохраняем LaTeX таблицу в файл\n",
    "    with open(filename, 'w') as f:\n",
    "        f.write(latex)\n",
    "\n",
    "# Пример использования\n",
    "if __name__ == \"__main__\":\n",
    "    data = {\n",
    "        'Name': ['Alice', 'Bob', 'Charlie', None],\n",
    "        'Age': [24, 22, None, 23],\n",
    "        'Score': [85, None, 95, 90]\n",
    "    }\n",
    "    df = pd.DataFrame(data)\n",
    "\n",
    "    # Запись DataFrame в LaTeX файл\n",
    "    save_df_to_latex(df, 'additional/table.tex', caption='Sample data from pandas', label='tab:sample_data', index=False)\n"
   ]
  },
  {
   "cell_type": "markdown",
   "metadata": {
    "pycharm": {
     "name": "#%% md\n"
    }
   },
   "source": [
    "# пример 1"
   ]
  },
  {
   "cell_type": "code",
   "execution_count": null,
   "metadata": {
    "pycharm": {
     "name": "#%%\n"
    }
   },
   "outputs": [],
   "source": [
    "import pandas as pd\n",
    "import hypex\n",
    "from hypex.utils import datasets\n",
    "\n",
    "\n",
    "df = datasets.gen_oracle_df(\n",
    "    factual_only=False,\n",
    "    random_state=145\n",
    ").loc[:, ['Treatment', 'Target_untreated', 'Target_treated']]\n",
    "df"
   ]
  },
  {
   "cell_type": "code",
   "execution_count": null,
   "metadata": {
    "collapsed": false,
    "jupyter": {
     "outputs_hidden": false
    },
    "pycharm": {
     "name": "#%%\n"
    }
   },
   "outputs": [],
   "source": [
    "save_df_to_latex(df, 'additional/table1.tex', caption='df', label='tab:sample_data', index=True)"
   ]
  },
  {
   "cell_type": "code",
   "execution_count": null,
   "metadata": {
    "collapsed": false,
    "jupyter": {
     "outputs_hidden": false
    },
    "pycharm": {
     "name": "#%%\n"
    }
   },
   "outputs": [],
   "source": [
    "Y_0 = df['Target_untreated']\n",
    "Y_1 = df['Target_treated']\n",
    "\n",
    "Y_factual = Y_0 * (1 - df['Treatment']) + Y_1 * df['Treatment']\n",
    "Y_counterfactual = Y_0 * df['Treatment'] + Y_1 * (1 - df['Treatment'])\n",
    "\n",
    "TE = Y_1 - Y_0\n",
    "\n",
    "TE[df['Treatment'] == 0].mean(), TE[df['Treatment'] == 1].mean(), TE.mean()"
   ]
  },
  {
   "cell_type": "markdown",
   "metadata": {
    "collapsed": false,
    "jupyter": {
     "outputs_hidden": false
    },
    "pycharm": {
     "name": "#%% md\n"
    }
   },
   "source": [
    "# таблица 2"
   ]
  },
  {
   "cell_type": "code",
   "execution_count": null,
   "metadata": {
    "collapsed": false,
    "jupyter": {
     "outputs_hidden": false
    },
    "pycharm": {
     "name": "#%%\n"
    }
   },
   "outputs": [],
   "source": [
    "df = datasets.gen_oracle_df(\n",
    "    factual_only=True,\n",
    "    random_state=145\n",
    ").loc[:, ['Treatment', 'Target_untreated', 'Target_treated']]\n",
    "df"
   ]
  },
  {
   "cell_type": "code",
   "execution_count": null,
   "metadata": {
    "collapsed": false,
    "jupyter": {
     "outputs_hidden": false
    },
    "pycharm": {
     "name": "#%%\n"
    }
   },
   "outputs": [],
   "source": [
    "save_df_to_latex(df, 'additional/table2.tex', caption='Sample data from pandas', label='tab:sample_data', index=False)"
   ]
  },
  {
   "cell_type": "markdown",
   "metadata": {
    "collapsed": false,
    "jupyter": {
     "outputs_hidden": false
    },
    "pycharm": {
     "name": "#%% md\n"
    }
   },
   "source": [
    "# таблица 3"
   ]
  },
  {
   "cell_type": "code",
   "execution_count": null,
   "metadata": {
    "collapsed": false,
    "jupyter": {
     "outputs_hidden": false
    },
    "pycharm": {
     "name": "#%%\n"
    }
   },
   "outputs": [],
   "source": [
    "df = datasets.gen_special_medicine_df(\n",
    "    data_size=1000,\n",
    "    dependent_division=True,\n",
    "    random_state=None,\n",
    ")\n",
    "\n",
    "df.head(8)"
   ]
  },
  {
   "cell_type": "code",
   "execution_count": null,
   "metadata": {
    "collapsed": false,
    "jupyter": {
     "outputs_hidden": false
    },
    "pycharm": {
     "name": "#%%\n"
    }
   },
   "outputs": [],
   "source": [
    "save_df_to_latex(df.head(8), 'additional/table3.tex', caption='Sample data from pandas', label='tab:sample_data', index=False)"
   ]
  },
  {
   "cell_type": "code",
   "execution_count": null,
   "metadata": {
    "collapsed": false,
    "jupyter": {
     "outputs_hidden": false
    },
    "pycharm": {
     "name": "#%%\n"
    }
   },
   "outputs": [],
   "source": [
    "df.loc[df['experimental_treatment']==1, 'residual_lifetime'].mean() - df.loc[df['experimental_treatment']==0, 'residual_lifetime'].mean()"
   ]
  }
 ],
 "metadata": {
  "kernelspec": {
   "display_name": "Python 3 (ipykernel)",
   "language": "python",
   "name": "python3"
  },
  "language_info": {
   "codemirror_mode": {
    "name": "ipython",
    "version": 3
   },
   "file_extension": ".py",
   "mimetype": "text/x-python",
   "name": "python",
   "nbconvert_exporter": "python",
   "pygments_lexer": "ipython3",
   "version": "3.9.19"
  }
 },
 "nbformat": 4,
 "nbformat_minor": 4
}